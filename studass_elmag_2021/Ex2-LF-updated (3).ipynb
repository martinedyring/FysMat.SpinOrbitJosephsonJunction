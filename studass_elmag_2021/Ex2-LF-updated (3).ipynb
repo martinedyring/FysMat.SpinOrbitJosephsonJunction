{
 "cells": [
  {
   "cell_type": "markdown",
   "metadata": {},
   "source": [
    "# Laplace Likningen og Iterative Metoder"
   ]
  },
  {
   "cell_type": "markdown",
   "metadata": {},
   "source": [
    "### FY1003 Elektrisitet og Magnetisme - Numerisk Øving 2"
   ]
  },
  {
   "cell_type": "markdown",
   "metadata": {},
   "source": [
    "En av de mest sentrale likningene i elektromagnetismen er Laplace likningen, $\\nabla^2 V(x,y) = 0$, som beskriver det elektriske felt i vakuum. Denne øvingen handler om å løse Laplace likningen i 2 dimensjoner ved å bruke tre *iterative* metoder, Jacobi metoden,  Gauss-Seidel metoden, og SOR (Successive Over-Relaxation), samt å sammenlikne disse tre metodene."
   ]
  },
  {
   "cell_type": "markdown",
   "metadata": {},
   "source": [
    "### Laplace likningen for boks med konstant sidekant"
   ]
  },
  {
   "cell_type": "markdown",
   "metadata": {},
   "source": [
    "En av de enklere systemene vi kan se på er en kvadratisk boks med lengde, $L$, hvor potensialet på den ene siden er holdt konstant, $V = V_0$, og den motsatte siden er jordet, $V = 0$. I denne oppgaven velger vi periodiske grensebetingelser for de to gjenstående sidene, men det er også vanlig å la disse være jordet. For å finne potensialet inne i boksen må man dermed finne en løsning til Laplace likningen, $\\nabla^2 V(x,y) = 0$, som oppfyller grensebetingelsene \n",
    "\n",
    "- $V(0,y) = V_0 = 1$,\n",
    "- $V(L, y) = 0$,\n",
    "- $V(x,0) = V(x,L)$.\n",
    "\n",
    "Dette er en andreordens homogen partiell differensiallikning, og med de gitte grensebetingelsene er det garantert at det eksisterer en unik løsning inne i boksen.\n",
    "\n",
    "Diskretisering av Laplace likningen gir \n",
    "\\begin{equation}\n",
    "0 = \\frac{V(x_{i-1},y_j) - 2V(x_i, y_j) + V(x_{i+1},y_j)}{\\Delta x} + \\frac{V(x_i,y_{j-1}) - 2V(x_i, y_j) + V(x_i,y_{j+1})}{\\Delta y}\\text{,}\n",
    "\\end{equation}\n",
    "\n",
    "hvis vi setter $\\Delta x = \\Delta y$ får vi\n",
    "\\begin{equation}\n",
    "V(x_i, y_j) = \\frac{1}{4}\\big[ V(x_{i-1},y_j) + V(x_{i+1},y_j) + V(x_i,y_{j-1}) + V(x_i,y_{j+1})\\big] \\text{,}\n",
    "\\end{equation}\n",
    "som gir oss utgangspunktet for de iterative metodene.\n",
    "\n",
    "I dette enkle tilfellet er den analytiske løsningen kjent, nemlig $V(x,y) = 1-x/L$ "
   ]
  },
  {
   "cell_type": "markdown",
   "metadata": {},
   "source": [
    "### Oppgave 1: Analytisk løsning"
   ]
  },
  {
   "cell_type": "markdown",
   "metadata": {},
   "source": [
    "Plot den analytiske løsningen $V(x,y) = 1-x/L$ for $x,y \\in [0,1]$. Dette kan for eksempel løses ved hjelp av np.meshgrid og plt.imshow som i øving 1."
   ]
  },
  {
   "cell_type": "code",
   "execution_count": 19,
   "metadata": {},
   "outputs": [
    {
     "data": {
      "image/png": "[encoded data removed]",
      "text/plain": [
       "<Figure size 432x288 with 2 Axes>"
      ]
     },
     "metadata": {},
     "output_type": "display_data"
    }
   ],
   "source": [
    "import numpy as np\n",
    "import matplotlib.pyplot as plt\n",
    "import time\n",
    "#-----------------SKRIV DIN LØSNING HER--------------------------------------------------------------#\n",
    "N = 40\n",
    "x = y = np.linspace(0.0, 1.0, N)\n",
    "xv, yv = np.meshgrid(x, -y)\n",
    "V_analytic = 1 - xv\n",
    "\n",
    "plt.imshow(V_analytic,\n",
    "          extent=(0,1,0,1))\n",
    "cb = plt.colorbar()\n",
    "plt.title('Analytic solution to Laplace equation')\n",
    "plt.show()"
   ]
  },
  {
   "cell_type": "markdown",
   "metadata": {},
   "source": [
    "### Oppgave 2: Jacobi metoden"
   ]
  },
  {
   "cell_type": "markdown",
   "metadata": {},
   "source": [
    "Jacobi metoden er en iterativ metode for å løse et system med lineære ligninger. Ideén er at man gjetter en prøveløsning $V^{(0)}$ og bruker denne til å generere en ny løsning $V^{(1)}$ ved hjelp av en rekursjonsformel, der den nye løsningen (forhåpentligvis) er nærmere riktig løsning enn den vi startet med. Man kan så gjennta denne prosessen for den nye løsningen og generere en følge med løsninger $\\{V^{(k)}\\}$ som konvergerer gradvis mot riktig løsning når $k$ øker.\n",
    "\n",
    "For Laplace likningen vil Jacobi-metoden gi følgende rekursjonsformel:\n",
    "\\begin{equation}\n",
    "V^{(\\text{k}+1)}(x_i, y_j)= \\frac{1}{4}\\big[ V^{(\\text{k})}(x_{i-1},y_j) + V^{(\\text{k})}(x_{i+1},y_j) + V^{(\\text{k})}(x_i,y_{j-1}) + V^{(\\text{k})}(x_i,y_{j+1})\\big]\\text{.}\n",
    "\\end{equation}\n",
    "Dere skal nå bruke rekursjonsformelen til å løse Laplace ligning rekursivt. "
   ]
  },
  {
   "cell_type": "markdown",
   "metadata": {},
   "source": [
    "$\\textbf{2a)}$ Skriv en funksjon <i> Jacobi_step </i> som tar inn en $N\\times N$ matrise $V^{(k)}$ samt størrelsen $N$ og returnerer matrisen $V^{(k+1)}$. Denne funksjonen skal altså gå gjennom alle $x_i$ og $y_j$ (representert ved indexer i matrisen $V^{(k)}$) og regne ut $V^{(k+1)}(x_i, y_j)$ gitt ved formelen over. Ting å være obs på:\n",
    "<ul>\n",
    "<li> Det er periodiske grensebetingelser langs y-retningen, som vil si at $V^{(k)}(x_i, y_N) = V^{(k)}(x_i, y_0)$ (For 0-indeksering som i python)</li>\n",
    "<li> Potensialet holdes konstant langs de to kantene $V^{(k)}(x_0, y_j)$ og $V^{(k)}(x_{N-1}, y_j)$, så disse skal ikke oppdateres </li> ift rekursjonsformelen men settes til riktige verdier.\n",
    "<li> $x$-verdiene svarer til kolonner og $y$-verdiene til rader i matrisen, slik at indexene blir omvendt av det vi er vant til med kartesiske kordinater</li>\n",
    "</ul>"
   ]
  },
  {
   "cell_type": "code",
   "execution_count": 36,
   "metadata": {},
   "outputs": [],
   "source": [
    "#-----------------SKRIV DIN LØSNING HER--------------------------------------------------------------#\n",
    "def Jacobi_step(V_k, N):\n",
    "    #Copy the old matrix to get the correct boundary conditions on V_new\n",
    "    V_new = np.copy(V_k)\n",
    "    #We want to itterate over every x-value except the boundaries (x=0,N-1)\n",
    "    for i in np.arange(1,N-1):\n",
    "        #We need to treat the top and the bottom rows as special cases because of the periodic boundary\n",
    "        #conditions. Top row:\n",
    "        V_new[0,i] = (V_k[0,i-1] + V_k[0,i+1] + V_k[N-1,i] + V_k[1,i]) / 4.0\n",
    "        \n",
    "        #We can loop over the middle rows\n",
    "        for j in np.arange(1,N-1):\n",
    "            V_new[j,i] = (V_k[j,i-1] + V_k[j,i+1] + V_k[j-1,i] + V_k[j+1,i]) / 4.0\n",
    "        \n",
    "        #Bottom row:\n",
    "        V_new[N-1,i] = (V_k[N-1,i-1] + V_k[N-1,i+1] + V_k[N-2,i] + V_k[0,i]) / 4.0\n",
    "    \n",
    "    return V_new"
   ]
  },
  {
   "cell_type": "markdown",
   "metadata": {},
   "source": [
    "Nå som vi har en metode for å regne ut $V^{(k+1)}$ trenger vi en metode for å bestemme når løsningen vår er 'god nok'. Siden vi vet den analytiske løsningen $V$ kan vi sammenligne med denne ved hjelp av matrise-normen, $||V^{(k)} - V||$, som går mot null når den itterative løsningen konvergerer mot den analytiske løsningen. Vi kan derfor velge en numerisk toleranse \"<i>tol</i>\", og si at den itterative løsningen er god nok når $||V^{(k)} - V|| < tol$."
   ]
  },
  {
   "cell_type": "markdown",
   "metadata": {},
   "source": [
    "$\\mathbf{2b)}$ Skriv en funksjon <i>Jacobi</i> som tar inn en prøveløsning $V^{(0)}$, den analytiske løsningen $V$ (begge $N \\times N$ matriser), størrelsen $N$ og den numeriske toleransen $tol$. Denne funksjonen skal så iterere over løsninger ved hjelp av funksjonen <i>Jacobi_step</i> frem til kravet $||V^{(k)} - V|| < tol$ er tilfredstilt. <i>Jacobi</i> skal til slutt returnere den iterative løsningen $V^{(k)}$, antall itterasjoner som ble gjort for å finne denne, samt tiden det tok. Tips:\n",
    "<ul>\n",
    "    <li> Matrise-normen kan regnes ut ved funksjonen <i>np.linalg.norm</i>. </li>\n",
    "    <li> Funksjonen <i>time.time()</i> returnerer tidspunkt, så denne kan brukes på starten og slutten av funksjonen for å regne ut tiden som brukes. </li>"
   ]
  },
  {
   "cell_type": "code",
   "execution_count": 39,
   "metadata": {},
   "outputs": [],
   "source": [
    "#-----------------SKRIV DIN LØSNING HER--------------------------------------------------------------#\n",
    "def Jacobi(V_0, V, N, tol):\n",
    "    #Start by recording the start time\n",
    "    start_time = time.time()\n",
    "    #We now need a counter and two arrays to save the old and new version of V_k\n",
    "    V_old = V_0\n",
    "    V_new = np.copy(V_old)\n",
    "    steps = 0\n",
    "    \n",
    "    #Now we make a while loop where V_k is updated by using Jacobi-step until the numerical\n",
    "    #requirement for convergence is satisfied\n",
    "    while np.linalg.norm(V_new - V) > tol:\n",
    "        V_old = np.copy(V_new)\n",
    "        V_new = Jacobi_step(V_old, N)\n",
    "        steps += 1\n",
    "    \n",
    "    #Record the end-time\n",
    "    end_time = time.time()\n",
    "    \n",
    "    return V_new, steps, end_time-start_time"
   ]
  },
  {
   "cell_type": "markdown",
   "metadata": {},
   "source": [
    "Bruk funskjonen <i>Jacobi</i> til å finne en iterativ løsning på Laplace ligning for $N=40$, $tol = 10^{-1}$. Plott resultatet og skriv ut tiden funksjonen bruker samt antall steg. \n",
    "<ul>\n",
    "    <li> Et eksempel på en prøveløsning er en matrise der alle elementene er 0 uten om de i den venstre kolonnen, som er 1 (i henhold til grensebetingelsene). Her går det sikkert ann å prøve seg frem litt. </li>\n",
    "</ul>"
   ]
  },
  {
   "cell_type": "code",
   "execution_count": 40,
   "metadata": {},
   "outputs": [
    {
     "name": "stdout",
     "output_type": "stream",
     "text": [
      "Reaching a tolerance of 0.1 took 10.503 seconds and required 3193 steps.\n"
     ]
    },
    {
     "data": {
      "image/png": "[encoded data removed]",
      "text/plain": [
       "<Figure size 432x288 with 2 Axes>"
      ]
     },
     "metadata": {},
     "output_type": "display_data"
    }
   ],
   "source": [
    "#-----------------SKRIV DIN LØSNING HER--------------------------------------------------------------#\n",
    "#Set parameters\n",
    "N=40\n",
    "tol = 1e-1\n",
    "\n",
    "#Intialise the trial solution\n",
    "V_0 = np.zeros((N,N))\n",
    "V_0[:,0] = 1.0\n",
    "\n",
    "#Run the Jacobi function to calculate V_conv\n",
    "V_jacobi, steps_jacobi, time_jacobi = Jacobi(V_0, V_analytic, N, tol)\n",
    "\n",
    "#Print results\n",
    "print ('Reaching a tolerance of %.1f took %.3f seconds and required %d steps.' %(tol, time_jacobi, steps_jacobi))\n",
    "#Plot\n",
    "plt.imshow(V_jacobi,\n",
    "          extent=(0,1,0,1))\n",
    "cb = plt.colorbar()\n",
    "plt.title('Jacobi solution to Laplace equation')\n",
    "plt.show()"
   ]
  },
  {
   "cell_type": "markdown",
   "metadata": {},
   "source": [
    "### Oppgave 3: Gauss-Seidel metoden"
   ]
  },
  {
   "cell_type": "markdown",
   "metadata": {},
   "source": [
    "Gauss-seidel metoden er veldig lik Jacobi metoden, men som regel et bedre valg ettersom den bruker mindre minne\n",
    "og som regel vil konvergere raskere. Forskjellen er at Gauss-Seidel kun bruker én matrise for $V^{(k)}$, ved at den bruker de oppdaterte verdiene for $V^{(k+1)}$ etterhvert som de blir beregnet i samme itterasjon over matrisen. Dermed blir rekursjonsformelen:\n",
    "\\begin{equation}\n",
    "V(x_i, y_j)= \\frac{1}{4}\\big[ V(x_{i-1},y_j) + V(x_{i+1},y_j) + V(x_i,y_{j-1}) + V(x_i,y_{j+1})\\big]\\text{.}\n",
    "\\end{equation}\n",
    "der vi har droppet $k$-indeksen ettersom $V^{(k+1)}$ avhenger både av seg selv og $V^{(k)}$."
   ]
  },
  {
   "cell_type": "markdown",
   "metadata": {},
   "source": [
    "$\\mathrm{3a)}$ Skriv en funksjon <i>Gauss_Seidel</i> som tar inn en prøveløsning $V^{(0)}$, den analytiske løsningen $V$, $N$ og en numerisk toleranse $tol$. Denne skal så finne en iterativ løsning som tilfretstiller \n",
    "$||V^{(k)} - V|| < tol$, der $V^{(k)}$ blir regnet ut ved hjelp av Gauss-Seidel rekursjonsformelen beskrevet over.\n",
    "<ul>\n",
    "    <li> Her er det mulig å gjennbruke mesteparten av koden fra oppgave 2 med noen små endringer </li>\n",
    "</ul>"
   ]
  },
  {
   "cell_type": "code",
   "execution_count": 41,
   "metadata": {},
   "outputs": [],
   "source": [
    "#-----------------SKRIV DIN LØSNING HER--------------------------------------------------------------#\n",
    "def Gauss_Seidel_step(V_k, N):\n",
    "    #Copy the old matrix\n",
    "    V_new = np.copy(V_k)\n",
    "    #We want to itterate over every x-value except the boundaries (x=0,N-1)\n",
    "    for i in np.arange(1,N-1):\n",
    "        #We need to treat the top and the bottom rows as special cases because of the periodic boundary\n",
    "        #conditions. Top row:\n",
    "        V_new[0,i] = (V_new[0,i-1] + V_new[0,i+1] + V_new[N-1,i] + V_new[1,i]) / 4.0\n",
    "        \n",
    "        #We can loop over the middle rows\n",
    "        for j in np.arange(1,N-1):\n",
    "            V_new[j,i] = (V_new[j,i-1] + V_new[j,i+1] + V_new[j-1,i] + V_new[j+1,i]) / 4.0\n",
    "        \n",
    "        #Bottom row:\n",
    "        V_new[N-1,i] = (V_new[N-1,i-1] + V_new[N-1,i+1] + V_new[N-2,i] + V_new[0,i]) / 4.0\n",
    "    \n",
    "    return V_new\n",
    "    \n",
    "\n",
    "def Gauss_Seidel(V_0, V, N, tol):\n",
    "    #Start by recording the start time\n",
    "    start_time = time.time()\n",
    "    #We now need a counter and two arrays to save the old and new version of V_k\n",
    "    V_old = V_0\n",
    "    V_new = np.copy(V_old)\n",
    "    steps = 0\n",
    "    \n",
    "    #Now we make a while loop where V_k is updated by using Jacobi-step until the numerical\n",
    "    #requirement for convergence is satisfied\n",
    "    while np.linalg.norm(V_new - V) > tol:\n",
    "        V_old = np.copy(V_new)\n",
    "        V_new = Gauss_Seidel_step(V_old, N)\n",
    "        steps += 1\n",
    "    \n",
    "    #Record the end-time\n",
    "    end_time = time.time()\n",
    "    \n",
    "    return V_new, steps, end_time-start_time"
   ]
  },
  {
   "cell_type": "markdown",
   "metadata": {},
   "source": [
    "$\\mathrm{3b)}$ Finn en iterativ løsning for Laplace ligning ved hjelp av Gauss-Seidel metoden for de samme parameterene som i 2c. Plot resultatene og skriv ut anntal steg brukt samt tid. Sammenlign resultatene med de du fant for Jakobi metoden i oppgave 2. "
   ]
  },
  {
   "cell_type": "code",
   "execution_count": 42,
   "metadata": {},
   "outputs": [
    {
     "name": "stdout",
     "output_type": "stream",
     "text": [
      "Reaching a tolerance of 0.1 took 5.358 seconds and required 1588 steps.\n"
     ]
    },
    {
     "data": {
      "image/png": "[encoded data removed]",
      "text/plain": [
       "<Figure size 432x288 with 2 Axes>"
      ]
     },
     "metadata": {},
     "output_type": "display_data"
    }
   ],
   "source": [
    "#-----------------SKRIV DIN LØSNING HER--------------------------------------------------------------#\n",
    "#Set parameters\n",
    "N=40\n",
    "tol = 1e-1\n",
    "\n",
    "#Intialise the trial solution\n",
    "V_0 = np.zeros((N,N))\n",
    "V_0[:,0] = 1.0\n",
    "\n",
    "#Run the Jacobi function to calculate V_conv\n",
    "V_GS, steps_GS, time_GS = Gauss_Seidel(V_0, V_analytic, N, tol)\n",
    "\n",
    "#Print results\n",
    "print ('Reaching a tolerance of %.1f took %.3f seconds and required %d steps.' %(tol, time_GS, steps_GS))\n",
    "#Plot\n",
    "plt.imshow(V_GS,\n",
    "          extent=(0,1,0,1))\n",
    "cb = plt.colorbar()\n",
    "plt.title('Gauss-Seidel solution to Laplace equation')\n",
    "plt.show()"
   ]
  },
  {
   "cell_type": "markdown",
   "metadata": {},
   "source": [
    "### Oppgave 4: Succesive Over-Relaxation (SOR) metoden"
   ]
  },
  {
   "cell_type": "markdown",
   "metadata": {},
   "source": [
    "SOR metoden er igjen nesten identisk med Gauss-Seidel, med den forskjellen at man innfører en <i>relaxation parameter</i>, $\\omega \\in (0,2)$, og bruker denne til å generere en rekursjonsformel med et veid gjennomsnitt\n",
    "\n",
    "\\begin{equation}\n",
    "V(x_i, y_j)= (1 - \\omega)V(x_i, y_j) +  \\frac{\\omega}{4}\\big[ V(x_{i-1},y_j) + V(x_{i+1},y_j) + V(x_i,y_{j-1}) + V(x_i,y_{j+1})\\big]\\text{.}\n",
    "\\end{equation}\n",
    "\n",
    "Ut ifra valg av $\\omega$ kan denne metoden føre til en drastisk forbedring i konvergenshastighet."
   ]
  },
  {
   "cell_type": "markdown",
   "metadata": {},
   "source": [
    "$\\mathrm{4a)}$ Skriv en funksjon <i>SOR</i> som tar inn en prøveløsning $V^{(0)}$, den analytiske løsningen $V$, $N$, relaxation parameteren $\\omega$ og en numerisk toleranse $tol$. Denne skal så finne en iterativ løsning som tilfretstiller \n",
    "$||V^{(k)} - V|| < tol$, der $V^{(k)}$ blir regnet ut ved hjelp av SOR rekursjonsformelen beskrevet over.\n",
    "<ul>\n",
    "    <li> Her er det igjen mulig å gjennbruke mesteparten av koden </li>\n",
    "</ul>"
   ]
  },
  {
   "cell_type": "code",
   "execution_count": 44,
   "metadata": {},
   "outputs": [],
   "source": [
    "#-----------------SKRIV DIN LØSNING HER--------------------------------------------------------------#\n",
    "def SOR_step(V_k, N, omega):\n",
    "    #Copy the old matrix\n",
    "    V_new = np.copy(V_k)\n",
    "    #Calculate 1-omega once instead of every time\n",
    "    prefac = 1.0-omega\n",
    "    \n",
    "    #We want to itterate over every x-value except the boundaries (x=0,N-1)\n",
    "    for i in np.arange(1,N-1):\n",
    "        #We need to treat the top and the bottom rows as special cases because of the periodic boundary\n",
    "        #conditions. Top row:\n",
    "        V_new[0,i] = prefac*V_new[0,i] + (V_new[0,i-1] + V_new[0,i+1] + V_new[N-1,i] + V_new[1,i])*omega / 4.0\n",
    "        \n",
    "        #We can loop over the middle rows\n",
    "        for j in np.arange(1,N-1):\n",
    "            V_new[j,i] = prefac*V_new[j,i] + (V_new[j,i-1] + V_new[j,i+1] + V_new[j-1,i] + V_new[j+1,i])*omega / 4.0\n",
    "        \n",
    "        #Bottom row:\n",
    "        V_new[N-1,i] = prefac*V_new[N-1,i] + (V_new[N-1,i-1] + V_new[N-1,i+1] + V_new[N-2,i] + V_new[0,i])*omega / 4.0\n",
    "    \n",
    "    return V_new\n",
    "    \n",
    "    \n",
    "def SOR(V_0, V, N, omega, tol):\n",
    "    #Start by recording the start time\n",
    "    start_time = time.time()\n",
    "    #We now need a counter and two arrays to save the old and new version of V_k\n",
    "    V_old = V_0\n",
    "    V_new = np.copy(V_old)\n",
    "    steps = 0\n",
    "    \n",
    "    #Now we make a while loop where V_k is updated by using Jacobi-step until the numerical\n",
    "    #requirement for convergence is satisfied\n",
    "    while np.linalg.norm(V_new - V) > tol:\n",
    "        V_old = np.copy(V_new)\n",
    "        V_new = SOR_step(V_old, N, omega)\n",
    "        steps += 1\n",
    "    \n",
    "    #Record the end-time\n",
    "    end_time = time.time()\n",
    "    \n",
    "    return V_new, steps, end_time-start_time\n",
    "    "
   ]
  },
  {
   "cell_type": "markdown",
   "metadata": {},
   "source": [
    "$\\mathrm{3b)}$ Finn en iterativ løsning for Laplace ligning ved hjelp av SOR metoden for de samme parameterene som tidligere for 3 verdier av $\\omega$. Plot resultatene og skriv ut anntal steg brukt samt tid. Sammenlign resultater for ulike verdier av $\\omega$, og med resultater fra tidligere oppgaver."
   ]
  },
  {
   "cell_type": "code",
   "execution_count": 48,
   "metadata": {},
   "outputs": [
    {
     "name": "stdout",
     "output_type": "stream",
     "text": [
      "Reaching a tolerance of 0.1 took 2.058 seconds and required 522 steps.\n"
     ]
    },
    {
     "data": {
      "image/png": "[encoded data removed]",
      "text/plain": [
       "<Figure size 432x288 with 2 Axes>"
      ]
     },
     "metadata": {},
     "output_type": "display_data"
    }
   ],
   "source": [
    "#-----------------SKRIV DIN LØSNING HER--------------------------------------------------------------#\n",
    "#Set parameters\n",
    "N=40\n",
    "tol = 1e-1\n",
    "omega = 1.5\n",
    "\n",
    "#Intialise the trial solution\n",
    "V_0 = np.zeros((N,N))\n",
    "V_0[:,0] = 1.0\n",
    "\n",
    "#Run the Jacobi function to calculate V_conv\n",
    "V_SOR, steps_SOR, time_SOR = SOR(V_0, V_analytic, N, omega, tol)\n",
    "\n",
    "#Print results\n",
    "print ('Reaching a tolerance of %.1f took %.3f seconds and required %d steps.' %(tol, time_SOR, steps_SOR))\n",
    "#Plot\n",
    "plt.imshow(V_SOR,\n",
    "          extent=(0,1,0,1))\n",
    "cb = plt.colorbar()\n",
    "plt.title('SOR solution to Laplace equation omega = 1.5')\n",
    "plt.show()"
   ]
  },
  {
   "cell_type": "markdown",
   "metadata": {},
   "source": [
    "### Ekstraoppgave"
   ]
  },
  {
   "cell_type": "markdown",
   "metadata": {},
   "source": [
    "<ul>\n",
    "    \n",
    "<li> Prøv å skru opp systemstørrelsen for de tre metodene og undersøk om forholdet mellom kjøretidene og anntall steg endrer seg.</li>\n",
    "<li> Fungerer metodene for en vilkårlig prøveløsning (med riktige grensebetingelser)? Prøv å lag noen sjuke prøveløsninger og se om det fortsatt konvergerer mot riktig løsning. </li>\n",
    "</ul>"
   ]
  },
  {
   "cell_type": "code",
   "execution_count": null,
   "metadata": {},
   "outputs": [],
   "source": []
  }
 ],
 "metadata": {
  "kernelspec": {
   "display_name": "Python 3",
   "language": "python",
   "name": "python3"
  },
  "language_info": {
   "codemirror_mode": {
    "name": "ipython",
    "version": 3
   },
   "file_extension": ".py",
   "mimetype": "text/x-python",
   "name": "python",
   "nbconvert_exporter": "python",
   "pygments_lexer": "ipython3",
   "version": "3.6.10"
  }
 },
 "nbformat": 4,
 "nbformat_minor": 4
}
