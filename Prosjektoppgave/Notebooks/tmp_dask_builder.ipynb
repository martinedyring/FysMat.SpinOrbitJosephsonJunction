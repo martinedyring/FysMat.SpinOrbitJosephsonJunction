{
 "cells": [
  {
   "cell_type": "markdown",
   "id": "opposed-filename",
   "metadata": {},
   "source": [
    "<h3> Try to run solve() from notebook using Dask to parallell np.linalg.eigh() loo"
   ]
  },
  {
   "cell_type": "code",
   "execution_count": 12,
   "id": "involved-royalty",
   "metadata": {},
   "outputs": [],
   "source": [
    "import sys\n",
    "import time\n",
    "import numpy as np\n",
    "import pickle\n",
    "import dask\n",
    "from numba import njit, prange\n",
    "import scipy\n",
    "import matplotlib.pyplot as plt\n",
    "\n",
    "sys.path.append(\"/Users/martinedh/Documents/NTNU/GitHub/FysMat/Prosjektoppgave\")\n",
    "from utilities_t import idx_F_i, num_idx_F_i\n",
    "from main import run_eigh_calc, solve_and_test_small_system\n",
    "from main import f as fa\n",
    "from solve_hamiltonian import solve_system\n",
    "from system_class import System\n",
    "from system_helper import set_hamiltonian, update_hamiltonian\n",
    "from system_helper import calculate_F_matrix"
   ]
  },
  {
   "cell_type": "markdown",
   "id": "restricted-dollar",
   "metadata": {},
   "source": [
    "<h4> Dask"
   ]
  },
  {
   "cell_type": "code",
   "execution_count": 2,
   "id": "surrounded-practice",
   "metadata": {},
   "outputs": [],
   "source": [
    "# https://www.youtube.com/watch?v=wANQkgDuTAk\n",
    "\n",
    "from dask.distributed import Client, LocalCluster, fire_and_forget\n",
    "from dask import delayed"
   ]
  },
  {
   "cell_type": "code",
   "execution_count": 3,
   "id": "sustainable-deadline",
   "metadata": {},
   "outputs": [],
   "source": [
    "#  client.restart"
   ]
  },
  {
   "cell_type": "code",
   "execution_count": 4,
   "id": "olympic-poison",
   "metadata": {
    "slideshow": {
     "slide_type": "slide"
    }
   },
   "outputs": [
    {
     "data": {
      "text/html": [
       "<table style=\"border: 2px solid white;\">\n",
       "<tr>\n",
       "<td style=\"vertical-align: top; border: 0px solid white\">\n",
       "<h3 style=\"text-align: left;\">Client</h3>\n",
       "<ul style=\"text-align: left; list-style: none; margin: 0; padding: 0;\">\n",
       "  <li><b>Scheduler: </b>tcp://127.0.0.1:60494</li>\n",
       "  <li><b>Dashboard: </b><a href='http://127.0.0.1:8787/status' target='_blank'>http://127.0.0.1:8787/status</a></li>\n",
       "</ul>\n",
       "</td>\n",
       "<td style=\"vertical-align: top; border: 0px solid white\">\n",
       "<h3 style=\"text-align: left;\">Cluster</h3>\n",
       "<ul style=\"text-align: left; list-style:none; margin: 0; padding: 0;\">\n",
       "  <li><b>Workers: </b>4</li>\n",
       "  <li><b>Cores: </b>12</li>\n",
       "  <li><b>Memory: </b>17.18 GB</li>\n",
       "</ul>\n",
       "</td>\n",
       "</tr>\n",
       "</table>"
      ],
      "text/plain": [
       "<Client: 'tcp://127.0.0.1:60494' processes=4 threads=12, memory=17.18 GB>"
      ]
     },
     "execution_count": 4,
     "metadata": {},
     "output_type": "execute_result"
    }
   ],
   "source": [
    "cluster = LocalCluster(n_workers=4, threads_per_worker=3)\n",
    "client = Client(cluster)\n",
    "client"
   ]
  },
  {
   "cell_type": "code",
   "execution_count": 5,
   "id": "active-athens",
   "metadata": {},
   "outputs": [],
   "source": [
    "@delayed\n",
    "@njit(fastmath=True)\n",
    "def calculate_eigh(ham):\n",
    "    return np.linalg.eigh(ham)"
   ]
  },
  {
   "cell_type": "code",
   "execution_count": 6,
   "id": "marine-planner",
   "metadata": {},
   "outputs": [],
   "source": [
    "system = System(phase=0.0, L_y = 30,L_z=30, L_sc_0 = 25, L_nc=0, L_sc=25, L_soc=3, mu_sc = 0.9, mu_nc = 0.9, mu_soc = 0.85, u_sc = -4.2, beta=33.3)\n",
    "\n",
    "junction=True\n",
    "tol=1e-4\n",
    "max_num_iter=100\n",
    "tmp_num_iter = 0\n",
    "num_delta_over_tol = system.L_x\n",
    "delta_store = np.ones((system.L_x, 2), dtype=np.complex128) # 1.column NEW, 2.column OLD\n",
    "\n"
   ]
  },
  {
   "cell_type": "code",
   "execution_count": 23,
   "id": "eastern-treatment",
   "metadata": {},
   "outputs": [],
   "source": [
    "\n",
    "def calcualte_hamiltonian_all(system):\n",
    "    hamiltonian_all = np.zeros(shape=(system.L_x * 4, system.L_x * 4, system.L_y, system.L_z), dtype=np.complex128)\n",
    "    for ky_idx in range(1, len(system.ky_array)): # form k=-pi to k=pi\n",
    "        for kz_idx in range(1, len(system.kz_array)):\n",
    "            hamiltonian_all[:,:,ky_idx, kz_idx] = set_hamiltonian(ky=system.ky_array[ky_idx],\n",
    "                                                                 kz=system.kz_array[kz_idx],\n",
    "                                                                 hamiltonian=system.hamiltonian,\n",
    "                                                                 L_x=system.L_x,\n",
    "                                                                 L_sc=system.L_sc,\n",
    "                                                                 L_soc=system.L_soc,\n",
    "                                                                 mu_array=system.mu_array,\n",
    "                                                                 t_array=system.t_x_array,\n",
    "                                                                 U_array=system.U_array,\n",
    "                                                                 F_matrix=system.F_matrix,\n",
    "                                                                 h_array=system.h_array,\n",
    "                                                                 alpha_R_x_array=system.alpha_R_x_array,\n",
    "                                                                 alpha_R_y_array=system.alpha_R_y_array)\n",
    "           #hamiltonian_all[:,:,ky_idx,kz_idx]\n",
    "    return hamiltonian_all"
   ]
  },
  {
   "cell_type": "code",
   "execution_count": 8,
   "id": "fabulous-grocery",
   "metadata": {},
   "outputs": [
    {
     "name": "stdout",
     "output_type": "stream",
     "text": [
      "CPU times: user 11.1 s, sys: 464 ms, total: 11.5 s\n",
      "Wall time: 9.71 s\n"
     ]
    }
   ],
   "source": [
    "%%time\n",
    "hamiltonian_all = calcualte_hamiltonian_all()"
   ]
  },
  {
   "cell_type": "code",
   "execution_count": 9,
   "id": "included-jackson",
   "metadata": {},
   "outputs": [
    {
     "data": {
      "text/plain": [
       "(212, 212, 30, 30)"
      ]
     },
     "execution_count": 9,
     "metadata": {},
     "output_type": "execute_result"
    }
   ],
   "source": [
    "hamiltonian_all.shape"
   ]
  },
  {
   "cell_type": "code",
   "execution_count": 33,
   "id": "stainless-crash",
   "metadata": {},
   "outputs": [],
   "source": [
    "import scipy\n",
    "@njit(fastmath=True)\n",
    "def calculate_eigen(hamiltonian_all, ky_len, kz_len):\n",
    "    for ky_idx in range(1, ky_len): # form k=-pi to k=pi\n",
    "        for kz_idx in range(1, kz_len):\n",
    "            #X = hamiltonian_all[:,:,ky_idx,kz_idx]\n",
    "            evalues, evectors = np.linalg.eigh(hamiltonian_all[:,:,ky_idx,kz_idx])\n",
    "            #evalues, evectors = scipy.linalg.eigh(hamiltonian_all[:,:,ky_idx,kz_idx], b = np.eye(len(hamiltonian_all[:,:,ky_idx,kz_idx]), dtype = hamiltonian_all[:,:,ky_idx,kz_idx].dtype), turbo = True, check_finite = False)"
   ]
  },
  {
   "cell_type": "code",
   "execution_count": 34,
   "id": "younger-majority",
   "metadata": {},
   "outputs": [
    {
     "name": "stdout",
     "output_type": "stream",
     "text": [
      "CPU times: user 15.5 s, sys: 313 ms, total: 15.8 s\n",
      "Wall time: 11.4 s\n"
     ]
    }
   ],
   "source": [
    "%%time\n",
    "calculate_eigen(hamiltonian_all, len(system.ky_array), len(system.kz_array))"
   ]
  },
  {
   "cell_type": "code",
   "execution_count": 21,
   "id": "described-edition",
   "metadata": {},
   "outputs": [],
   "source": [
    "@njit(fastmath=True)\n",
    "def calc_together(eigenvalues, eigenvectors, ky_array, kz_array, hamiltonian, L_x, L_sc, L_soc, mu_array, t_x_array, U_array, F_matrix, h_array, alpha_R_x_array, alpha_R_y_array):  \n",
    "    for ky_idx in range(1, len(ky_array)): # form k=-pi to k=pi\n",
    "        for kz_idx in range(1, len(kz_array)):\n",
    "            hamiltonian = set_hamiltonian(ky=ky_array[ky_idx],\n",
    "                                         kz=kz_array[kz_idx],\n",
    "                                         hamiltonian=hamiltonian,\n",
    "                                         L_x=L_x,\n",
    "                                         L_sc=L_sc,\n",
    "                                         L_soc=L_soc,\n",
    "                                         mu_array=mu_array,\n",
    "                                         t_array=t_x_array,\n",
    "                                         U_array=U_array,\n",
    "                                         F_matrix=F_matrix,\n",
    "                                         h_array=h_array,\n",
    "                                         alpha_R_x_array=alpha_R_x_array,\n",
    "                                         alpha_R_y_array=alpha_R_y_array)\n",
    "            # Calculates the eigenvalues from hamiltonian.\n",
    "            eigenvalues[:, ky_idx, kz_idx], eigenvectors[:, :, ky_idx, kz_idx] = np.linalg.eigh(hamiltonian)"
   ]
  },
  {
   "cell_type": "code",
   "execution_count": 23,
   "id": "animated-reasoning",
   "metadata": {},
   "outputs": [
    {
     "name": "stdout",
     "output_type": "stream",
     "text": [
      "CPU times: user 18.7 s, sys: 581 ms, total: 19.2 s\n",
      "Wall time: 11.1 s\n"
     ]
    }
   ],
   "source": [
    "%%time\n",
    "\n",
    "calc_together(system.eigenvalues,\n",
    "              system.eigenvectors,\n",
    "              system.ky_array, \n",
    "              system.kz_array, \n",
    "              system.hamiltonian, \n",
    "              system.L_x, \n",
    "              system.L_sc, \n",
    "              system.L_soc, \n",
    "              system.mu_array, \n",
    "              system.t_x_array, \n",
    "              system.U_array, \n",
    "              system.F_matrix, \n",
    "              system.h_array, \n",
    "              system.alpha_R_x_array, \n",
    "              system.alpha_R_y_array)"
   ]
  },
  {
   "cell_type": "code",
   "execution_count": 10,
   "id": "reported-dispatch",
   "metadata": {},
   "outputs": [],
   "source": [
    "#%%time\n",
    "#hamiltonian_all = dask.compute(hamiltonian_all[:])\n",
    "#hamiltonian_all = hamiltonian_all[0]"
   ]
  },
  {
   "cell_type": "code",
   "execution_count": 10,
   "id": "angry-jackson",
   "metadata": {},
   "outputs": [],
   "source": [
    "delayed_objects = []\n",
    "#while num_delta_over_tol > 0 and tmp_num_iter <= max_num_iter:\n",
    "for ky_idx in range(1, len(system.ky_array)): # form k=-pi to k=pi\n",
    "    for kz_idx in range(1, len(system.kz_array)):\n",
    "        # Calculates the eigenvalues from hamiltonian.\n",
    "        delayed_objects.append(calculate_eigh(hamiltonian_all[:,:,ky_idx,kz_idx]))"
   ]
  },
  {
   "cell_type": "code",
   "execution_count": 11,
   "id": "demonstrated-consequence",
   "metadata": {},
   "outputs": [
    {
     "data": {
      "image/png": "[encoded data removed]",
      "text/plain": [
       "<IPython.core.display.Image object>"
      ]
     },
     "execution_count": 11,
     "metadata": {},
     "output_type": "execute_result"
    }
   ],
   "source": [
    "dask.visualize(delayed_objects[:5])"
   ]
  },
  {
   "cell_type": "code",
   "execution_count": 12,
   "id": "sensitive-lincoln",
   "metadata": {},
   "outputs": [
    {
     "name": "stdout",
     "output_type": "stream",
     "text": [
      "CPU times: user 9.15 s, sys: 2.52 s, total: 11.7 s\n",
      "Wall time: 20 s\n"
     ]
    }
   ],
   "source": [
    "%%time\n",
    "\n",
    "f = dask.compute(*delayed_objects)"
   ]
  },
  {
   "cell_type": "code",
   "execution_count": 13,
   "id": "national-neighbor",
   "metadata": {},
   "outputs": [],
   "source": [
    "evals, evecs = map(list,zip(*f))"
   ]
  },
  {
   "cell_type": "code",
   "execution_count": 14,
   "id": "worldwide-address",
   "metadata": {},
   "outputs": [],
   "source": [
    "system.eigenvalues[:,1:,1:] = np.reshape(np.array(evals), (212, 29, 29))\n",
    "system.eigenvectors[:,:,1:,1:] = np.reshape(np.array(evecs), (212,212, 29, 29))"
   ]
  },
  {
   "cell_type": "code",
   "execution_count": 15,
   "id": "exterior-understanding",
   "metadata": {},
   "outputs": [],
   "source": [
    "system.F_matrix = calculate_F_matrix(F_matrix=system.F_matrix,\n",
    "                                             L_x=system.L_x,\n",
    "                                             L_y=system.L_y,\n",
    "                                             L_z=system.L_z,\n",
    "                                             eigenvalues=system.eigenvalues,\n",
    "                                             eigenvectors=system.eigenvectors,\n",
    "                                             beta=system.beta)\n",
    "if junction==True:\n",
    "    #F_matrix = forcePhaseDifference(F_matrix=F_matrix,\n",
    "                                    #phase=phase)\n",
    "    system.F_matrix[0, 0] = np.abs(system.F_matrix[0, 0]) * np.exp(1.0j * system.phase)  # phase_plus\n",
    "    system.F_matrix[-1, 0] = np.abs(system.F_matrix[-1, 0])\n",
    "\n",
    "delta_store[:, 0] = system.F_matrix[:, idx_F_i]  # F_ii\n",
    "#delta_diff = abs((delta_store[:, 0] - delta_store[:, 1]) / delta_store[:, 1])\n",
    "delta_diff_tmp = (delta_store[:, 0] - delta_store[:, 1])\n",
    "delta_diff_tmp /= delta_store[:, 1]\n",
    "delta_diff = np.abs(delta_diff_tmp)\n",
    "delta_store[:, 1] = system.F_matrix[:, idx_F_i]  # F_ii\n",
    "tmp_num_iter += 1\n",
    "\n",
    "num_delta_over_tol = len(np.where(delta_diff > tol)[0])"
   ]
  },
  {
   "cell_type": "code",
   "execution_count": 16,
   "id": "enabling-breath",
   "metadata": {},
   "outputs": [
    {
     "data": {
      "text/plain": [
       "array([ 3.15631168e-04+0.j, -1.31471269e-03+0.j, -4.08571183e-05+0.j,\n",
       "        6.16675475e-03+0.j, -3.62252061e-04+0.j, -2.23242774e-03+0.j,\n",
       "        1.31752574e-03+0.j,  5.05368044e-04+0.j,  1.32740369e-03+0.j,\n",
       "        4.99832868e-04+0.j,  4.45130995e-04+0.j, -8.52563629e-04+0.j,\n",
       "        1.54220499e-04+0.j,  4.64100443e-04+0.j, -4.76373554e-04+0.j,\n",
       "        1.08818707e-02+0.j, -7.82942915e-04+0.j, -4.38274594e-03+0.j,\n",
       "       -1.05088610e-04+0.j, -1.41759219e-03+0.j, -3.98976409e-03+0.j,\n",
       "        1.01625045e-03+0.j, -7.84472596e-03+0.j, -1.29448396e-03+0.j,\n",
       "       -2.09000055e-03+0.j,  1.18162190e-03+0.j,  4.38443538e-03+0.j,\n",
       "        7.05853937e-03+0.j, -1.22892439e-02+0.j,  4.05374933e-03+0.j,\n",
       "       -1.30486324e-03+0.j, -6.13832331e-04+0.j, -1.41518401e-03+0.j,\n",
       "        1.78609381e-04+0.j,  2.07911429e-03+0.j,  6.97817716e-04+0.j,\n",
       "       -9.20473035e-04+0.j, -1.64465766e-03+0.j,  1.07224376e-03+0.j,\n",
       "       -4.06830420e-03+0.j,  3.10924521e-04+0.j,  6.59622151e-04+0.j,\n",
       "        2.51528164e-04+0.j, -3.66039065e-04+0.j, -1.11004084e-03+0.j,\n",
       "       -1.93540404e-03+0.j,  1.46477717e-04+0.j, -1.27994501e-05+0.j,\n",
       "        5.32022677e-03+0.j, -2.77312395e-03+0.j,  1.79640561e-04+0.j,\n",
       "       -5.13380684e-04+0.j,  7.52918471e-04+0.j])"
      ]
     },
     "execution_count": 16,
     "metadata": {},
     "output_type": "execute_result"
    }
   ],
   "source": [
    "system.F_matrix[:,0]"
   ]
  },
  {
   "cell_type": "markdown",
   "id": "mysterious-evaluation",
   "metadata": {},
   "source": [
    "<h5> while loop"
   ]
  },
  {
   "cell_type": "code",
   "execution_count": 16,
   "id": "front-horse",
   "metadata": {},
   "outputs": [
    {
     "name": "stdout",
     "output_type": "stream",
     "text": [
      "Iteration nr. 1\n",
      "Iteration nr. 2\n",
      "Iteration nr. 3\n",
      "Iteration nr. 4\n",
      "Iteration nr. 5\n",
      "Iteration nr. 6\n",
      "Iteration nr. 7\n",
      "Iteration nr. 8\n",
      "Iteration nr. 9\n"
     ]
    },
    {
     "name": "stderr",
     "output_type": "stream",
     "text": [
      "distributed.utils_perf - WARNING - full garbage collections took 10% CPU time recently (threshold: 10%)\n",
      "distributed.utils_perf - WARNING - full garbage collections took 10% CPU time recently (threshold: 10%)\n",
      "distributed.utils_perf - WARNING - full garbage collections took 10% CPU time recently (threshold: 10%)\n",
      "distributed.utils_perf - WARNING - full garbage collections took 10% CPU time recently (threshold: 10%)\n",
      "distributed.utils_perf - WARNING - full garbage collections took 10% CPU time recently (threshold: 10%)\n"
     ]
    },
    {
     "ename": "KeyboardInterrupt",
     "evalue": "",
     "output_type": "error",
     "traceback": [
      "\u001b[0;31m--------------------------------------------------------------------------\u001b[0m",
      "\u001b[0;31mKeyboardInterrupt\u001b[0m                        Traceback (most recent call last)",
      "\u001b[0;32m<timed exec>\u001b[0m in \u001b[0;36m<module>\u001b[0;34m\u001b[0m\n",
      "\u001b[0;32m~/anaconda3/lib/python3.6/site-packages/dask/base.py\u001b[0m in \u001b[0;36mcompute\u001b[0;34m(*args, **kwargs)\u001b[0m\n\u001b[1;32m    559\u001b[0m         \u001b[0mpostcomputes\u001b[0m\u001b[0;34m.\u001b[0m\u001b[0mappend\u001b[0m\u001b[0;34m(\u001b[0m\u001b[0mx\u001b[0m\u001b[0;34m.\u001b[0m\u001b[0m__dask_postcompute__\u001b[0m\u001b[0;34m(\u001b[0m\u001b[0;34m)\u001b[0m\u001b[0;34m)\u001b[0m\u001b[0;34m\u001b[0m\u001b[0;34m\u001b[0m\u001b[0m\n\u001b[1;32m    560\u001b[0m \u001b[0;34m\u001b[0m\u001b[0m\n\u001b[0;32m--> 561\u001b[0;31m     \u001b[0mresults\u001b[0m \u001b[0;34m=\u001b[0m \u001b[0mschedule\u001b[0m\u001b[0;34m(\u001b[0m\u001b[0mdsk\u001b[0m\u001b[0;34m,\u001b[0m \u001b[0mkeys\u001b[0m\u001b[0;34m,\u001b[0m \u001b[0;34m**\u001b[0m\u001b[0mkwargs\u001b[0m\u001b[0;34m)\u001b[0m\u001b[0;34m\u001b[0m\u001b[0;34m\u001b[0m\u001b[0m\n\u001b[0m\u001b[1;32m    562\u001b[0m     \u001b[0;32mreturn\u001b[0m \u001b[0mrepack\u001b[0m\u001b[0;34m(\u001b[0m\u001b[0;34m[\u001b[0m\u001b[0mf\u001b[0m\u001b[0;34m(\u001b[0m\u001b[0mr\u001b[0m\u001b[0;34m,\u001b[0m \u001b[0;34m*\u001b[0m\u001b[0ma\u001b[0m\u001b[0;34m)\u001b[0m \u001b[0;32mfor\u001b[0m \u001b[0mr\u001b[0m\u001b[0;34m,\u001b[0m \u001b[0;34m(\u001b[0m\u001b[0mf\u001b[0m\u001b[0;34m,\u001b[0m \u001b[0ma\u001b[0m\u001b[0;34m)\u001b[0m \u001b[0;32min\u001b[0m \u001b[0mzip\u001b[0m\u001b[0;34m(\u001b[0m\u001b[0mresults\u001b[0m\u001b[0;34m,\u001b[0m \u001b[0mpostcomputes\u001b[0m\u001b[0;34m)\u001b[0m\u001b[0;34m]\u001b[0m\u001b[0;34m)\u001b[0m\u001b[0;34m\u001b[0m\u001b[0;34m\u001b[0m\u001b[0m\n\u001b[1;32m    563\u001b[0m \u001b[0;34m\u001b[0m\u001b[0m\n",
      "\u001b[0;32m~/anaconda3/lib/python3.6/site-packages/distributed/client.py\u001b[0m in \u001b[0;36mget\u001b[0;34m(self, dsk, keys, restrictions, loose_restrictions, resources, sync, asynchronous, direct, retries, priority, fifo_timeout, actors, **kwargs)\u001b[0m\n\u001b[1;32m   2682\u001b[0m                     \u001b[0mshould_rejoin\u001b[0m \u001b[0;34m=\u001b[0m \u001b[0;32mFalse\u001b[0m\u001b[0;34m\u001b[0m\u001b[0;34m\u001b[0m\u001b[0m\n\u001b[1;32m   2683\u001b[0m             \u001b[0;32mtry\u001b[0m\u001b[0;34m:\u001b[0m\u001b[0;34m\u001b[0m\u001b[0;34m\u001b[0m\u001b[0m\n\u001b[0;32m-> 2684\u001b[0;31m                 \u001b[0mresults\u001b[0m \u001b[0;34m=\u001b[0m \u001b[0mself\u001b[0m\u001b[0;34m.\u001b[0m\u001b[0mgather\u001b[0m\u001b[0;34m(\u001b[0m\u001b[0mpacked\u001b[0m\u001b[0;34m,\u001b[0m \u001b[0masynchronous\u001b[0m\u001b[0;34m=\u001b[0m\u001b[0masynchronous\u001b[0m\u001b[0;34m,\u001b[0m \u001b[0mdirect\u001b[0m\u001b[0;34m=\u001b[0m\u001b[0mdirect\u001b[0m\u001b[0;34m)\u001b[0m\u001b[0;34m\u001b[0m\u001b[0;34m\u001b[0m\u001b[0m\n\u001b[0m\u001b[1;32m   2685\u001b[0m             \u001b[0;32mfinally\u001b[0m\u001b[0;34m:\u001b[0m\u001b[0;34m\u001b[0m\u001b[0;34m\u001b[0m\u001b[0m\n\u001b[1;32m   2686\u001b[0m                 \u001b[0;32mfor\u001b[0m \u001b[0mf\u001b[0m \u001b[0;32min\u001b[0m \u001b[0mfutures\u001b[0m\u001b[0;34m.\u001b[0m\u001b[0mvalues\u001b[0m\u001b[0;34m(\u001b[0m\u001b[0;34m)\u001b[0m\u001b[0;34m:\u001b[0m\u001b[0;34m\u001b[0m\u001b[0;34m\u001b[0m\u001b[0m\n",
      "\u001b[0;32m~/anaconda3/lib/python3.6/site-packages/distributed/client.py\u001b[0m in \u001b[0;36mgather\u001b[0;34m(self, futures, errors, direct, asynchronous)\u001b[0m\n\u001b[1;32m   1997\u001b[0m                 \u001b[0mdirect\u001b[0m\u001b[0;34m=\u001b[0m\u001b[0mdirect\u001b[0m\u001b[0;34m,\u001b[0m\u001b[0;34m\u001b[0m\u001b[0;34m\u001b[0m\u001b[0m\n\u001b[1;32m   1998\u001b[0m                 \u001b[0mlocal_worker\u001b[0m\u001b[0;34m=\u001b[0m\u001b[0mlocal_worker\u001b[0m\u001b[0;34m,\u001b[0m\u001b[0;34m\u001b[0m\u001b[0;34m\u001b[0m\u001b[0m\n\u001b[0;32m-> 1999\u001b[0;31m                 \u001b[0masynchronous\u001b[0m\u001b[0;34m=\u001b[0m\u001b[0masynchronous\u001b[0m\u001b[0;34m,\u001b[0m\u001b[0;34m\u001b[0m\u001b[0;34m\u001b[0m\u001b[0m\n\u001b[0m\u001b[1;32m   2000\u001b[0m             )\n\u001b[1;32m   2001\u001b[0m \u001b[0;34m\u001b[0m\u001b[0m\n",
      "\u001b[0;32m~/anaconda3/lib/python3.6/site-packages/distributed/client.py\u001b[0m in \u001b[0;36msync\u001b[0;34m(self, func, asynchronous, callback_timeout, *args, **kwargs)\u001b[0m\n\u001b[1;32m    838\u001b[0m         \u001b[0;32melse\u001b[0m\u001b[0;34m:\u001b[0m\u001b[0;34m\u001b[0m\u001b[0;34m\u001b[0m\u001b[0m\n\u001b[1;32m    839\u001b[0m             return sync(\n\u001b[0;32m--> 840\u001b[0;31m                 \u001b[0mself\u001b[0m\u001b[0;34m.\u001b[0m\u001b[0mloop\u001b[0m\u001b[0;34m,\u001b[0m \u001b[0mfunc\u001b[0m\u001b[0;34m,\u001b[0m \u001b[0;34m*\u001b[0m\u001b[0margs\u001b[0m\u001b[0;34m,\u001b[0m \u001b[0mcallback_timeout\u001b[0m\u001b[0;34m=\u001b[0m\u001b[0mcallback_timeout\u001b[0m\u001b[0;34m,\u001b[0m \u001b[0;34m**\u001b[0m\u001b[0mkwargs\u001b[0m\u001b[0;34m\u001b[0m\u001b[0;34m\u001b[0m\u001b[0m\n\u001b[0m\u001b[1;32m    841\u001b[0m             )\n\u001b[1;32m    842\u001b[0m \u001b[0;34m\u001b[0m\u001b[0m\n",
      "\u001b[0;32m~/anaconda3/lib/python3.6/site-packages/distributed/utils.py\u001b[0m in \u001b[0;36msync\u001b[0;34m(loop, func, callback_timeout, *args, **kwargs)\u001b[0m\n\u001b[1;32m    335\u001b[0m     \u001b[0;32melse\u001b[0m\u001b[0;34m:\u001b[0m\u001b[0;34m\u001b[0m\u001b[0;34m\u001b[0m\u001b[0m\n\u001b[1;32m    336\u001b[0m         \u001b[0;32mwhile\u001b[0m \u001b[0;32mnot\u001b[0m \u001b[0me\u001b[0m\u001b[0;34m.\u001b[0m\u001b[0mis_set\u001b[0m\u001b[0;34m(\u001b[0m\u001b[0;34m)\u001b[0m\u001b[0;34m:\u001b[0m\u001b[0;34m\u001b[0m\u001b[0;34m\u001b[0m\u001b[0m\n\u001b[0;32m--> 337\u001b[0;31m             \u001b[0me\u001b[0m\u001b[0;34m.\u001b[0m\u001b[0mwait\u001b[0m\u001b[0;34m(\u001b[0m\u001b[0;36m10\u001b[0m\u001b[0;34m)\u001b[0m\u001b[0;34m\u001b[0m\u001b[0;34m\u001b[0m\u001b[0m\n\u001b[0m\u001b[1;32m    338\u001b[0m     \u001b[0;32mif\u001b[0m \u001b[0merror\u001b[0m\u001b[0;34m[\u001b[0m\u001b[0;36m0\u001b[0m\u001b[0;34m]\u001b[0m\u001b[0;34m:\u001b[0m\u001b[0;34m\u001b[0m\u001b[0;34m\u001b[0m\u001b[0m\n\u001b[1;32m    339\u001b[0m         \u001b[0mtyp\u001b[0m\u001b[0;34m,\u001b[0m \u001b[0mexc\u001b[0m\u001b[0;34m,\u001b[0m \u001b[0mtb\u001b[0m \u001b[0;34m=\u001b[0m \u001b[0merror\u001b[0m\u001b[0;34m[\u001b[0m\u001b[0;36m0\u001b[0m\u001b[0;34m]\u001b[0m\u001b[0;34m\u001b[0m\u001b[0;34m\u001b[0m\u001b[0m\n",
      "\u001b[0;32m~/anaconda3/lib/python3.6/threading.py\u001b[0m in \u001b[0;36mwait\u001b[0;34m(self, timeout)\u001b[0m\n\u001b[1;32m    549\u001b[0m             \u001b[0msignaled\u001b[0m \u001b[0;34m=\u001b[0m \u001b[0mself\u001b[0m\u001b[0;34m.\u001b[0m\u001b[0m_flag\u001b[0m\u001b[0;34m\u001b[0m\u001b[0;34m\u001b[0m\u001b[0m\n\u001b[1;32m    550\u001b[0m             \u001b[0;32mif\u001b[0m \u001b[0;32mnot\u001b[0m \u001b[0msignaled\u001b[0m\u001b[0;34m:\u001b[0m\u001b[0;34m\u001b[0m\u001b[0;34m\u001b[0m\u001b[0m\n\u001b[0;32m--> 551\u001b[0;31m                 \u001b[0msignaled\u001b[0m \u001b[0;34m=\u001b[0m \u001b[0mself\u001b[0m\u001b[0;34m.\u001b[0m\u001b[0m_cond\u001b[0m\u001b[0;34m.\u001b[0m\u001b[0mwait\u001b[0m\u001b[0;34m(\u001b[0m\u001b[0mtimeout\u001b[0m\u001b[0;34m)\u001b[0m\u001b[0;34m\u001b[0m\u001b[0;34m\u001b[0m\u001b[0m\n\u001b[0m\u001b[1;32m    552\u001b[0m             \u001b[0;32mreturn\u001b[0m \u001b[0msignaled\u001b[0m\u001b[0;34m\u001b[0m\u001b[0;34m\u001b[0m\u001b[0m\n\u001b[1;32m    553\u001b[0m \u001b[0;34m\u001b[0m\u001b[0m\n",
      "\u001b[0;32m~/anaconda3/lib/python3.6/threading.py\u001b[0m in \u001b[0;36mwait\u001b[0;34m(self, timeout)\u001b[0m\n\u001b[1;32m    297\u001b[0m             \u001b[0;32melse\u001b[0m\u001b[0;34m:\u001b[0m\u001b[0;34m\u001b[0m\u001b[0;34m\u001b[0m\u001b[0m\n\u001b[1;32m    298\u001b[0m                 \u001b[0;32mif\u001b[0m \u001b[0mtimeout\u001b[0m \u001b[0;34m>\u001b[0m \u001b[0;36m0\u001b[0m\u001b[0;34m:\u001b[0m\u001b[0;34m\u001b[0m\u001b[0;34m\u001b[0m\u001b[0m\n\u001b[0;32m--> 299\u001b[0;31m                     \u001b[0mgotit\u001b[0m \u001b[0;34m=\u001b[0m \u001b[0mwaiter\u001b[0m\u001b[0;34m.\u001b[0m\u001b[0macquire\u001b[0m\u001b[0;34m(\u001b[0m\u001b[0;32mTrue\u001b[0m\u001b[0;34m,\u001b[0m \u001b[0mtimeout\u001b[0m\u001b[0;34m)\u001b[0m\u001b[0;34m\u001b[0m\u001b[0;34m\u001b[0m\u001b[0m\n\u001b[0m\u001b[1;32m    300\u001b[0m                 \u001b[0;32melse\u001b[0m\u001b[0;34m:\u001b[0m\u001b[0;34m\u001b[0m\u001b[0;34m\u001b[0m\u001b[0m\n\u001b[1;32m    301\u001b[0m                     \u001b[0mgotit\u001b[0m \u001b[0;34m=\u001b[0m \u001b[0mwaiter\u001b[0m\u001b[0;34m.\u001b[0m\u001b[0macquire\u001b[0m\u001b[0;34m(\u001b[0m\u001b[0;32mFalse\u001b[0m\u001b[0;34m)\u001b[0m\u001b[0;34m\u001b[0m\u001b[0;34m\u001b[0m\u001b[0m\n",
      "\u001b[0;31mKeyboardInterrupt\u001b[0m: "
     ]
    }
   ],
   "source": [
    "%%time\n",
    "\n",
    "system = System(phase=0.0, L_y = 30,L_z=30, L_sc_0 = 25, L_nc=0, L_sc=25, L_soc=3, mu_sc = 0.9, mu_nc = 0.9, mu_soc = 0.85, u_sc = -4.2, beta=33.3)\n",
    "\n",
    "junction=True\n",
    "tol=1e-5\n",
    "max_num_iter=20\n",
    "\n",
    "tmp_num_iter = 0\n",
    "num_delta_over_tol = system.L_x\n",
    "delta_store = np.ones((system.L_x, 2), dtype=np.complex128) # 1.column NEW, 2.column OLD\n",
    "\n",
    "\n",
    "\n",
    "system.hamiltonain = set_hamiltonian(ky=system.ky_array[1],\n",
    "                                     kz=system.kz_array[1],\n",
    "                                     hamiltonian=system.hamiltonian,\n",
    "                                     L_x=system.L_x,\n",
    "                                     L_sc=system.L_sc,\n",
    "                                     L_soc=system.L_soc,\n",
    "                                     mu_array=system.mu_array,\n",
    "                                     t_array=system.t_x_array,\n",
    "                                     U_array=system.U_array,\n",
    "                                     F_matrix=system.F_matrix,\n",
    "                                     h_array=system.h_array,\n",
    "                                     alpha_R_x_array=system.alpha_R_x_array,\n",
    "                                     alpha_R_y_array=system.alpha_R_y_array)\n",
    "\n",
    "while num_delta_over_tol > 0 and tmp_num_iter <= max_num_iter:\n",
    "    print(\"Iteration nr. %i\" % (tmp_num_iter + 1))\n",
    "    #hamiltonian_all = calcualte_hamiltonian_all(system)\n",
    "    \n",
    "    #hamiltonian = np.zeros(shape=(53 * 4, 53 * 4, 30, 30), dtype=np.complex128)\n",
    "    hamiltonian_tmp = np.zeros(shape=(system.L_x * 4, system.L_x * 4), dtype=np.complex128)\n",
    "   \n",
    "    delayed_objects = []\n",
    "\n",
    "    for ky_idx in range(1, len(system.ky_array)): # form k=-pi to k=pi\n",
    "        for kz_idx in range(1, len(system.kz_array)):\n",
    "            hamiltonian_tmp[:,:] = update_hamiltonian(system.hamiltonian, \n",
    "                                                      U_array=system.U_array,\n",
    "                                                      F_matrix=system.F_matrix,\n",
    "                                                      L_x=system.L_x)\n",
    "\n",
    "\n",
    "    \n",
    "    #while num_delta_over_tol > 0 and tmp_num_iter <= max_num_iter:\n",
    "    #for ky_idx in range(1, len(system.ky_array)): # form k=-pi to k=pi\n",
    "    #    for kz_idx in range(1, len(system.kz_array)):\n",
    "            # Calculates the eigenvalues from hamiltonian.\n",
    "            delayed_objects.append(calculate_eigh(hamiltonian_tmp))\n",
    "    f = dask.compute(*delayed_objects)\n",
    "    evals, evecs = map(list,zip(*f))\n",
    "    system.eigenvalues[:,1:,1:] = np.reshape(np.array(evals), (system.L_x * 4, 29, 29))\n",
    "    system.eigenvectors[:,:,1:,1:] = np.reshape(np.array(evecs), (system.L_x * 4, system.L_x * 4, 29, 29))\n",
    "\n",
    "    #duration = time.time() - start\n",
    "    #print(duration)\n",
    "    system.F_matrix = calculate_F_matrix(F_matrix=system.F_matrix,\n",
    "                                             L_x=system.L_x,\n",
    "                                             L_y=system.L_y,\n",
    "                                             L_z=system.L_z,\n",
    "                                             eigenvalues=system.eigenvalues,\n",
    "                                             eigenvectors=system.eigenvectors,\n",
    "                                             beta=system.beta)\n",
    "    if junction==True:\n",
    "        #F_matrix = forcePhaseDifference(F_matrix=F_matrix,\n",
    "                                        #phase=phase)\n",
    "        system.F_matrix[0, 0] = np.abs(system.F_matrix[0, 0]) * np.exp(1.0j * system.phase)  # phase_plus\n",
    "        system.F_matrix[-1, 0] = np.abs(system.F_matrix[-1, 0])\n",
    "\n",
    "    delta_store[:, 0] = system.F_matrix[:, idx_F_i]  # F_ii\n",
    "    #delta_diff = abs((delta_store[:, 0] - delta_store[:, 1]) / delta_store[:, 1])\n",
    "    delta_diff_tmp = (delta_store[:, 0] - delta_store[:, 1])\n",
    "    delta_diff_tmp /= delta_store[:, 1]\n",
    "    delta_diff = np.abs(delta_diff_tmp)\n",
    "    delta_store[:, 1] = system.F_matrix[:, idx_F_i]  # F_ii\n",
    "    tmp_num_iter += 1\n",
    "\n",
    "    num_delta_over_tol = len(np.where(delta_diff > tol)[0])"
   ]
  },
  {
   "cell_type": "code",
   "execution_count": 17,
   "id": "organic-revelation",
   "metadata": {},
   "outputs": [
    {
     "data": {
      "text/plain": [
       "[<matplotlib.lines.Line2D at 0x7fbb76576320>]"
      ]
     },
     "execution_count": 17,
     "metadata": {},
     "output_type": "execute_result"
    },
    {
     "name": "stderr",
     "output_type": "stream",
     "text": [
      "distributed.utils_perf - WARNING - full garbage collections took 10% CPU time recently (threshold: 10%)\n"
     ]
    },
    {
     "data": {
      "image/png": "[encoded data removed]",
      "text/plain": [
       "<Figure size 432x288 with 1 Axes>"
      ]
     },
     "metadata": {
      "needs_background": "light"
     },
     "output_type": "display_data"
    },
    {
     "name": "stderr",
     "output_type": "stream",
     "text": [
      "distributed.nanny - WARNING - Restarting worker\n",
      "distributed.nanny - WARNING - Restarting worker\n",
      "distributed.nanny - WARNING - Restarting worker\n",
      "distributed.nanny - WARNING - Restarting worker\n",
      "distributed.utils_perf - WARNING - full garbage collections took 10% CPU time recently (threshold: 10%)\n",
      "distributed.utils_perf - WARNING - full garbage collections took 10% CPU time recently (threshold: 10%)\n",
      "distributed.nanny - WARNING - Restarting worker\n",
      "distributed.nanny - WARNING - Restarting worker\n",
      "distributed.nanny - WARNING - Restarting worker\n",
      "distributed.nanny - WARNING - Restarting worker\n"
     ]
    }
   ],
   "source": [
    "x = np.linspace(0, len(system.F_matrix[:,0]), len(system.F_matrix[:,0]))\n",
    "plt.plot(x, np.imag(system.F_matrix[:,0]))\n",
    "plt.plot(x, np.real(system.F_matrix[:,0]))"
   ]
  },
  {
   "cell_type": "code",
   "execution_count": null,
   "id": "developing-swing",
   "metadata": {},
   "outputs": [],
   "source": []
  }
 ],
 "metadata": {
  "kernelspec": {
   "display_name": "Python 3",
   "language": "python",
   "name": "python3"
  },
  "language_info": {
   "codemirror_mode": {
    "name": "ipython",
    "version": 3
   },
   "file_extension": ".py",
   "mimetype": "text/x-python",
   "name": "python",
   "nbconvert_exporter": "python",
   "pygments_lexer": "ipython3",
   "version": "3.6.10"
  }
 },
 "nbformat": 4,
 "nbformat_minor": 5
}
