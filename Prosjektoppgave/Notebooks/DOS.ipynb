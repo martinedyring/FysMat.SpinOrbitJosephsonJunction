{
 "cells": [
  {
   "cell_type": "markdown",
   "metadata": {},
   "source": [
    "<h1> Density of states"
   ]
  },
  {
   "cell_type": "markdown",
   "metadata": {},
   "source": [
    "<h5> First, solve system and plot correlation function and check if system has ok convergance"
   ]
  },
  {
   "cell_type": "code",
   "execution_count": 3,
   "metadata": {},
   "outputs": [],
   "source": [
    "import sys\n",
    "from matplotlib import cm\n",
    "import matplotlib.pyplot as plt\n",
    "import numpy as np\n",
    "\n",
    "sys.path.append(\"/Users/martinedh/Documents/NTNU/GitHub/FysMat/Prosjektoppgave\")\n",
    "from main import solve_and_return_system_and_F_matrix\n",
    "from main import define_system, solve_and_test_small_system, solve_for_sns_system\n",
    "from plots import plot_pairing_amplitude, plot_density_of_states\n",
    "\n",
    "from solve_hamiltonian import solve_system"
   ]
  },
  {
   "cell_type": "code",
   "execution_count": null,
   "metadata": {},
   "outputs": [],
   "source": [
    "# record runtime\n",
    "import timeit\n",
    "start = timeit.default_timer()\n",
    "\n",
    "\n",
    "system, F_matrix = solve_and_test_small_system() # NC(50) - SOC(2) - SC(50)\n",
    "#mu_orbital = -3.5, orbital_indicator = 's', F_sc_initial_orbital = [0.3, 0.3, 0.3, 0.3, 0.3, 0.3, 0.3, 0.3, 0.3, 0.3])\n",
    "\n",
    "# print runtime\n",
    "stop = timeit.default_timer()\n",
    "print('Time: ', stop - start) "
   ]
  },
  {
   "cell_type": "code",
   "execution_count": null,
   "metadata": {},
   "outputs": [],
   "source": [
    "plot_pairing_amplitude(system, F_matrix) \n",
    "# it 1: diff 80.31784729526646\n",
    "# it 2: diff 13.608228168595833"
   ]
  },
  {
   "cell_type": "markdown",
   "metadata": {},
   "source": [
    "<h3> Now, calculate DOS and plot for each medium"
   ]
  },
  {
   "cell_type": "code",
   "execution_count": null,
   "metadata": {},
   "outputs": [],
   "source": [
    "# record runtime\n",
    "import timeit\n",
    "start = timeit.default_timer()\n",
    "\n",
    "ldos, energy_state = system.ldos_from_problem(0.01, 0.35, -6, 6) # resolution, sigma, min e, max e\n",
    "\n",
    "# print runtime\n",
    "stop = timeit.default_timer()\n",
    "print('Time: ', stop - start) "
   ]
  },
  {
   "cell_type": "code",
   "execution_count": null,
   "metadata": {},
   "outputs": [],
   "source": [
    "print(ldos.shape)\n",
    "print(energy_state.shape)"
   ]
  },
  {
   "cell_type": "code",
   "execution_count": null,
   "metadata": {},
   "outputs": [],
   "source": [
    "plot_density_of_states(energy_state, ldos, L_sc_0 = 20, L_nc=10, L_sc=20, L_soc=0)"
   ]
  },
  {
   "cell_type": "code",
   "execution_count": null,
   "metadata": {},
   "outputs": [],
   "source": [
    "# plot all ldos for each medium\n",
    "\n",
    "fig, ax = plt.subplots(figsize=(18, 6))\n",
    "num_latticesites = ldos.shape[0]\n",
    "step = 3\n",
    "delta_range = 20\n",
    "start = max(num_latticesites//2-delta_range, 0)\n",
    "stop = min(num_latticesites//2+delta_range, num_latticesites)\n",
    "#stop = Nx//2\n",
    "for i in range(start, stop, step):\n",
    "    ax.plot(energy_state, ldos[i, :], c = cm.plasma(float(i-start)/(stop-start)))\n",
    "#ax.set_xlim()\n",
    "ax.set_xlabel(\"Energy\")\n",
    "ax.set_ylabel(\"#\")"
   ]
  },
  {
   "cell_type": "code",
   "execution_count": null,
   "metadata": {},
   "outputs": [],
   "source": [
    "fig, ax = plt.subplots(figsize=(18, 8))\n",
    "ax.contourf(np.arange(ldos.shape[0]), energy_state, ldos.T, cmap=cm.plasma, levels=np.linspace(0, 1, 500))\n",
    "ax.set_xlabel(\"Lattice site\")\n",
    "ax.set_ylabel(\"Energy\")"
   ]
  },
  {
   "cell_type": "code",
   "execution_count": null,
   "metadata": {},
   "outputs": [],
   "source": [
    "# Try to plot only middle energies\n",
    "# Hva plottes egentlig?\n",
    "\n",
    "fig = plt.figure(figsize=(18, 6))\n",
    "num_energies = ldos.shape[1]\n",
    "step = 3\n",
    "delta_range = 50\n",
    "start = num_energies//2\n",
    "stop = min(num_energies//2+delta_range, num_energies)\n",
    "for i in range(start, stop, step):\n",
    "    plt.plot(ldos[:, i], c = cm.plasma(float(i-start)/(stop-start)))\n",
    "plt.xlabel(\"Lattice site\")\n",
    "plt.ylabel(\"#\")"
   ]
  },
  {
   "cell_type": "code",
   "execution_count": null,
   "metadata": {},
   "outputs": [],
   "source": []
  }
 ],
 "metadata": {
  "kernelspec": {
   "display_name": "Python 3",
   "language": "python",
   "name": "python3"
  },
  "language_info": {
   "codemirror_mode": {
    "name": "ipython",
    "version": 3
   },
   "file_extension": ".py",
   "mimetype": "text/x-python",
   "name": "python",
   "nbconvert_exporter": "python",
   "pygments_lexer": "ipython3",
   "version": "3.6.4"
  }
 },
 "nbformat": 4,
 "nbformat_minor": 2
}
