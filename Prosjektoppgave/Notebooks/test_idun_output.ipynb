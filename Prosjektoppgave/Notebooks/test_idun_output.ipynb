{
 "cells": [
  {
   "cell_type": "code",
   "execution_count": 7,
   "id": "annual-kazakhstan",
   "metadata": {},
   "outputs": [],
   "source": [
    "import sys\n",
    "from matplotlib import cm\n",
    "import matplotlib.pyplot as plt\n",
    "import numpy as np\n",
    "import pickle\n",
    "\n",
    "sys.path.append(\"/Users/martinedh/Documents/NTNU/GitHub/FysMat/Prosjektoppgave\")"
   ]
  },
  {
   "cell_type": "code",
   "execution_count": 8,
   "id": "painful-actress",
   "metadata": {},
   "outputs": [],
   "source": [
    "with open('test_current_idun.pkl', 'rb') as input:\n",
    "    input\n",
    "    #s1 = pickle.load(input)"
   ]
  },
  {
   "cell_type": "markdown",
   "id": "external-gravity",
   "metadata": {},
   "source": [
    "s1"
   ]
  },
  {
   "cell_type": "code",
   "execution_count": 9,
   "id": "royal-recording",
   "metadata": {},
   "outputs": [
    {
     "data": {
      "text/plain": [
       "<_io.BufferedReader name='test_current_idun.pkl'>"
      ]
     },
     "execution_count": 9,
     "metadata": {},
     "output_type": "execute_result"
    }
   ],
   "source": [
    "input"
   ]
  },
  {
   "cell_type": "code",
   "execution_count": 14,
   "id": "polished-villa",
   "metadata": {},
   "outputs": [
    {
     "name": "stdout",
     "output_type": "stream",
     "text": [
      "<_io.BufferedReader name='test_current_idun.pkl'>\n",
      "test_current_idun.pkl\n"
     ]
    }
   ],
   "source": [
    "from io import BufferedReader\n",
    "\n",
    "filepath = 'test_current_idun.pkl'\n",
    "\n",
    "with BufferedReader(open(filepath, 'r')) as file:\n",
    "    print(file)  # -> <_io.BufferedReader name='../data/test.txt'>\n",
    "    print(file.name)  # -> ../data/test.txt"
   ]
  },
  {
   "cell_type": "code",
   "execution_count": 15,
   "id": "fabulous-humanitarian",
   "metadata": {},
   "outputs": [
    {
     "ename": "ValueError",
     "evalue": "peek of closed file",
     "output_type": "error",
     "traceback": [
      "\u001b[0;31m---------------------------------------------------------------------------\u001b[0m",
      "\u001b[0;31mValueError\u001b[0m                                Traceback (most recent call last)",
      "\u001b[0;32m<ipython-input-15-7e74e15feac2>\u001b[0m in \u001b[0;36m<module>\u001b[0;34m\u001b[0m\n\u001b[0;32m----> 1\u001b[0;31m \u001b[0mpickle\u001b[0m\u001b[0;34m.\u001b[0m\u001b[0mload\u001b[0m\u001b[0;34m(\u001b[0m\u001b[0mfile\u001b[0m\u001b[0;34m)\u001b[0m\u001b[0;34m\u001b[0m\u001b[0;34m\u001b[0m\u001b[0m\n\u001b[0m",
      "\u001b[0;31mValueError\u001b[0m: peek of closed file"
     ]
    }
   ],
   "source": [
    "pickle.load(file)"
   ]
  },
  {
   "cell_type": "code",
   "execution_count": 16,
   "id": "sound-spirituality",
   "metadata": {},
   "outputs": [
    {
     "data": {
      "text/plain": [
       "15"
      ]
     },
     "execution_count": 16,
     "metadata": {},
     "output_type": "execute_result"
    }
   ],
   "source": [
    "np.finfo(np.double).precision"
   ]
  },
  {
   "cell_type": "code",
   "execution_count": 17,
   "id": "latter-travel",
   "metadata": {},
   "outputs": [
    {
     "data": {
      "text/plain": [
       "18"
      ]
     },
     "execution_count": 17,
     "metadata": {},
     "output_type": "execute_result"
    }
   ],
   "source": [
    "np.finfo(np.longdouble).precision"
   ]
  },
  {
   "cell_type": "code",
   "execution_count": 18,
   "id": "weird-underground",
   "metadata": {},
   "outputs": [
    {
     "data": {
      "text/plain": [
       "15"
      ]
     },
     "execution_count": 18,
     "metadata": {},
     "output_type": "execute_result"
    }
   ],
   "source": [
    "np.finfo(np.float64).precision"
   ]
  },
  {
   "cell_type": "code",
   "execution_count": 19,
   "id": "sophisticated-christianity",
   "metadata": {},
   "outputs": [
    {
     "data": {
      "text/plain": [
       "18"
      ]
     },
     "execution_count": 19,
     "metadata": {},
     "output_type": "execute_result"
    }
   ],
   "source": [
    "np.finfo(np.float128).precision"
   ]
  },
  {
   "cell_type": "code",
   "execution_count": 20,
   "id": "fifty-bidder",
   "metadata": {},
   "outputs": [
    {
     "ename": "ModuleNotFoundError",
     "evalue": "No module named 'bigfloat'",
     "output_type": "error",
     "traceback": [
      "\u001b[0;31m---------------------------------------------------------------------------\u001b[0m",
      "\u001b[0;31mModuleNotFoundError\u001b[0m                       Traceback (most recent call last)",
      "\u001b[0;32m<ipython-input-20-cd5e7b8d91a9>\u001b[0m in \u001b[0;36m<module>\u001b[0;34m\u001b[0m\n\u001b[0;32m----> 1\u001b[0;31m \u001b[0;32mimport\u001b[0m \u001b[0mbigfloat\u001b[0m\u001b[0;34m\u001b[0m\u001b[0;34m\u001b[0m\u001b[0m\n\u001b[0m\u001b[1;32m      2\u001b[0m \u001b[0;34m\u001b[0m\u001b[0m\n\u001b[1;32m      3\u001b[0m \u001b[0mbigfloat\u001b[0m\u001b[0;34m.\u001b[0m\u001b[0mexp\u001b[0m\u001b[0;34m(\u001b[0m\u001b[0;36m5000\u001b[0m\u001b[0;34m,\u001b[0m\u001b[0mbigfloat\u001b[0m\u001b[0;34m.\u001b[0m\u001b[0mprecision\u001b[0m\u001b[0;34m(\u001b[0m\u001b[0;36m100\u001b[0m\u001b[0;34m)\u001b[0m\u001b[0;34m)\u001b[0m\u001b[0;34m\u001b[0m\u001b[0;34m\u001b[0m\u001b[0m\n",
      "\u001b[0;31mModuleNotFoundError\u001b[0m: No module named 'bigfloat'"
     ]
    }
   ],
   "source": [
    "import bigfloat\n",
    "\n",
    "bigfloat.exp(5000,bigfloat.precision(100))"
   ]
  },
  {
   "cell_type": "code",
   "execution_count": null,
   "id": "departmental-assignment",
   "metadata": {},
   "outputs": [],
   "source": []
  }
 ],
 "metadata": {
  "kernelspec": {
   "display_name": "Python 3",
   "language": "python",
   "name": "python3"
  },
  "language_info": {
   "codemirror_mode": {
    "name": "ipython",
    "version": 3
   },
   "file_extension": ".py",
   "mimetype": "text/x-python",
   "name": "python",
   "nbconvert_exporter": "python",
   "pygments_lexer": "ipython3",
   "version": "3.6.10"
  }
 },
 "nbformat": 4,
 "nbformat_minor": 5
}
