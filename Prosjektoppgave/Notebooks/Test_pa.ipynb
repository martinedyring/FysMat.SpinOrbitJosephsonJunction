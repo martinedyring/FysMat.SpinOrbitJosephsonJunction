{
 "cells": [
  {
   "cell_type": "code",
   "execution_count": null,
   "metadata": {},
   "outputs": [
    {
     "name": "stdout",
     "output_type": "stream",
     "text": [
      "Iteration nr. 1\n",
      "dim F:  (200, 6)\n",
      "dim eigenvalues:  (800, 51)\n",
      "dim eigenvectors:  (800, 800, 51)\n",
      "Iteration nr. 2\n",
      "dim F:  (200, 6)\n",
      "dim eigenvalues:  (800, 51)\n",
      "dim eigenvectors:  (800, 800, 51)\n"
     ]
    }
   ],
   "source": [
    "import sys\n",
    "sys.path.append(\"/Users/martinedh/Documents/NTNU/GitHub/FysMat/Prosjektoppgave\")\n",
    "from main import pairing_amplitude_one_orbital as pa\n",
    "\"\"\"\n",
    "F_sc_initial_s = [1.0, 1.0, 1.0, 1.0, 1.0, 1.0],\n",
    "F_sc_initial_d = [0.0, 0.0, 1.0, 1.0, -1.0, -1.0],\n",
    "F_sc_initial_px = [0.0, 0.0, 1.0, -1.0, 0.0, 0.0],\n",
    "F_sc_initial_py = [0.0, 0.0, 0.0, 0.0, 1.0, 1.0],\n",
    "    \n",
    "mu_s = -3.5, #s\n",
    "mu_d = -0.5,\n",
    "mu_pxpy = -1.5,\n",
    "\"\"\"\n",
    "pa(orbital_indicator = 's', mu_orbital = -3.5, F_sc_initial_orbital = [1.0, 1.0, 1.0, 1.0, 1.0, 1.0])"
   ]
  },
  {
   "cell_type": "code",
   "execution_count": null,
   "metadata": {},
   "outputs": [],
   "source": []
  }
 ],
 "metadata": {
  "kernelspec": {
   "display_name": "Python 3",
   "language": "python",
   "name": "python3"
  },
  "language_info": {
   "codemirror_mode": {
    "name": "ipython",
    "version": 3
   },
   "file_extension": ".py",
   "mimetype": "text/x-python",
   "name": "python",
   "nbconvert_exporter": "python",
   "pygments_lexer": "ipython3",
   "version": "3.6.4"
  }
 },
 "nbformat": 4,
 "nbformat_minor": 2
}
