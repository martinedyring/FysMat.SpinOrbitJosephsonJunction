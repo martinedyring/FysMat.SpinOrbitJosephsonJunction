{
 "cells": [
  {
   "cell_type": "code",
   "execution_count": 1,
   "metadata": {},
   "outputs": [],
   "source": [
    "import numpy as np"
   ]
  },
  {
   "cell_type": "code",
   "execution_count": 5,
   "metadata": {},
   "outputs": [],
   "source": [
    "npzfile = np.load('sns_4_4_4_L20_u2_2.npz')"
   ]
  },
  {
   "cell_type": "code",
   "execution_count": 6,
   "metadata": {},
   "outputs": [
    {
     "data": {
      "text/plain": [
       "array([0.        , 0.21666156, 0.43332312, 0.64998469, 0.86664625,\n",
       "       1.08330781, 1.29996937, 1.51663094, 1.7332925 , 1.94995406,\n",
       "       2.16661562, 2.38327719, 2.59993875, 2.81660031, 3.03326187,\n",
       "       3.24992343, 3.466585  , 3.68324656, 3.89990812, 4.11656968,\n",
       "       4.33323125, 4.54989281, 4.76655437, 4.98321593, 5.1998775 ,\n",
       "       5.41653906, 5.63320062, 5.84986218, 6.06652374, 6.28318531])"
      ]
     },
     "execution_count": 6,
     "metadata": {},
     "output_type": "execute_result"
    }
   ],
   "source": [
    "npzfile['arr_0']"
   ]
  },
  {
   "cell_type": "code",
   "execution_count": 9,
   "metadata": {},
   "outputs": [],
   "source": [
    "import sys\n",
    "import numpy as np\n",
    "sys.path.append(\"/Users/martinedh/Documents/NTNU/GitHub/FysMat/Prosjektoppgave\")\n",
    "from main import define_system, solve_and_test_small_system, solve_for_sns_system"
   ]
  },
  {
   "cell_type": "code",
   "execution_count": 12,
   "metadata": {},
   "outputs": [],
   "source": [
    "import numpy as np\n",
    "import matplotlib.pyplot as plt\n",
    "\n",
    "from solve_hamiltonian import solve_system\n",
    "from system_class import System\n",
    "from plots import plot_complex_function, plot_pairing_amplitude\n",
    "from utilities import label_F_matrix"
   ]
  },
  {
   "cell_type": "code",
   "execution_count": 15,
   "metadata": {},
   "outputs": [],
   "source": [
    "def test_phase_intial(max_num_iter=200, tol=1e-2):\n",
    "    phase_array = np.linspace(0, 2*np.pi, 20)\n",
    "    current_midle = np.zeros(len(phase_array))\n",
    "\n",
    "    # define first utside, so that we can change phase and solve the same system (do not need to start from scratch to solve)\n",
    "    print(\"#_________ Phase = \", phase_array[3], \"_________#\")\n",
    "    system = System(phase=phase_array[3], L_y=15, L_z=15, L_sc_0=5, L_nc=5, L_sc=5, L_soc=0, mu_sc=0.9, mu_nc=0.9,mu_soc=0.85, u_sc=-4.2, beta=100)\n",
    "    solve_system(system, max_num_iter, tol)\n",
    "    current_arr = system.current_along_lattice()\n",
    "    current_midle[0] = np.imag(current_arr)[system.L_sc_0 + system.L_nc // 2]\n",
    "\n",
    "    site_x = np.linspace(0, system.L_x - 1, system.L_x - 1)\n",
    "    plt.plot(site_x[1:], np.imag(current_arr)[1:], label=\"imag\")\n",
    "    plt.legend()\n",
    "    plt.xlabel(\"lattice site [SC-NC-SC]/[5-5-5]\")\n",
    "    plt.ylabel(\"current I_x\")\n",
    "    plt.grid()\n",
    "    plt.show()\n",
    "    return system"
   ]
  },
  {
   "cell_type": "code",
   "execution_count": 18,
   "metadata": {},
   "outputs": [
    {
     "name": "stdout",
     "output_type": "stream",
     "text": [
      "#_________ Phase =  0.992081890607303 _________#\n",
      "Hermition:  True\n",
      "Iteration nr. 1\n"
     ]
    },
    {
     "name": "stderr",
     "output_type": "stream",
     "text": [
      "/Users/martinedh/Documents/NTNU/GitHub/FysMat/Prosjektoppgave/system_class.py:898: RuntimeWarning: divide by zero encountered in true_divide\n",
      "  self.F_matrix[0, :] = self.F_matrix[0,:] / (self.F_matrix[0,:]/self.F_matrix[-1, :]) * phaseDiff\n",
      "/Users/martinedh/Documents/NTNU/GitHub/FysMat/Prosjektoppgave/system_class.py:898: RuntimeWarning: invalid value encountered in true_divide\n",
      "  self.F_matrix[0, :] = self.F_matrix[0,:] / (self.F_matrix[0,:]/self.F_matrix[-1, :]) * phaseDiff\n"
     ]
    },
    {
     "name": "stdout",
     "output_type": "stream",
     "text": [
      "num_delta_over_tol =  15  -- where total num lattice sites is  15\n",
      "Iteration nr. 2\n",
      "num_delta_over_tol =  15  -- where total num lattice sites is  15\n",
      "Iteration nr. 3\n",
      "num_delta_over_tol =  15  -- where total num lattice sites is  15\n",
      "Iteration nr. 4\n",
      "num_delta_over_tol =  15  -- where total num lattice sites is  15\n",
      "Iteration nr. 5\n",
      "num_delta_over_tol =  0  -- where total num lattice sites is  15\n"
     ]
    },
    {
     "data": {
      "image/png": "[encoded data removed]",
      "text/plain": [
       "<matplotlib.figure.Figure at 0x7fb72527bc50>"
      ]
     },
     "metadata": {},
     "output_type": "display_data"
    }
   ],
   "source": [
    "s = test_phase_intial()"
   ]
  },
  {
   "cell_type": "code",
   "execution_count": 32,
   "metadata": {},
   "outputs": [],
   "source": [
    "phase_exp = s.F_matrix[:, 0]/abs(s.F_matrix[:,0])"
   ]
  },
  {
   "cell_type": "code",
   "execution_count": 33,
   "metadata": {},
   "outputs": [
    {
     "data": {
      "text/plain": [
       "(15, 6)"
      ]
     },
     "execution_count": 33,
     "metadata": {},
     "output_type": "execute_result"
    }
   ],
   "source": [
    "s.F_matrix.shape"
   ]
  },
  {
   "cell_type": "code",
   "execution_count": 34,
   "metadata": {},
   "outputs": [],
   "source": [
    "lattice = np.linspace(0, s.F_matrix.shape[0], s.F_matrix.shape[0])"
   ]
  },
  {
   "cell_type": "code",
   "execution_count": 38,
   "metadata": {},
   "outputs": [
    {
     "data": {
      "text/plain": [
       "[<matplotlib.lines.Line2D at 0x7fb7261679b0>]"
      ]
     },
     "execution_count": 38,
     "metadata": {},
     "output_type": "execute_result"
    },
    {
     "data": {
      "image/png": "[encoded data removed]",
      "text/plain": [
       "<matplotlib.figure.Figure at 0x7fb725259668>"
      ]
     },
     "metadata": {},
     "output_type": "display_data"
    }
   ],
   "source": [
    "lattice = np.linspace(0, s.F_matrix.shape[0], s.F_matrix.shape[0])\n",
    "plt.plot(lattice, np.imag(np.log(s.F_matrix[:, 0]/abs(s.F_matrix[:,0]))))"
   ]
  },
  {
   "cell_type": "code",
   "execution_count": 5,
   "metadata": {},
   "outputs": [],
   "source": [
    "import numpy as np\n",
    "a = 3.5 + 5.2j\n",
    "b = 3"
   ]
  },
  {
   "cell_type": "code",
   "execution_count": 6,
   "metadata": {},
   "outputs": [],
   "source": []
  },
  {
   "cell_type": "code",
   "execution_count": 7,
   "metadata": {},
   "outputs": [
    {
     "name": "stdout",
     "output_type": "stream",
     "text": [
      "(39.290000000000006+0j)\n"
     ]
    }
   ],
   "source": []
  },
  {
   "cell_type": "code",
   "execution_count": null,
   "metadata": {},
   "outputs": [],
   "source": []
  }
 ],
 "metadata": {
  "kernelspec": {
   "display_name": "Python 3",
   "language": "python",
   "name": "python3"
  },
  "language_info": {
   "codemirror_mode": {
    "name": "ipython",
    "version": 3
   },
   "file_extension": ".py",
   "mimetype": "text/x-python",
   "name": "python",
   "nbconvert_exporter": "python",
   "pygments_lexer": "ipython3",
   "version": "3.6.4"
  }
 },
 "nbformat": 4,
 "nbformat_minor": 2
}
